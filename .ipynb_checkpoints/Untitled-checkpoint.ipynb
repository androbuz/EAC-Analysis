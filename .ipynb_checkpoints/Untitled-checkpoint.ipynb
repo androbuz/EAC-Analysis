{
 "cells": [
  {
   "cell_type": "code",
   "execution_count": 2,
   "id": "bfa27f8f",
   "metadata": {},
   "outputs": [
    {
     "name": "stderr",
     "output_type": "stream",
     "text": [
      "test_mean (__main__.TestsForSnakeStats) ... ok\n",
      "\n",
      "----------------------------------------------------------------------\n",
      "Ran 1 test in 0.001s\n",
      "\n",
      "OK\n"
     ]
    },
    {
     "data": {
      "text/plain": [
       "<unittest.main.TestProgram at 0x24e618df460>"
      ]
     },
     "execution_count": 2,
     "metadata": {},
     "output_type": "execute_result"
    }
   ],
   "source": [
    "import unittest\n",
    "import snakestats\n",
    "class TestsForSnakeStats(unittest.TestCase):\n",
    "    def test_mean(self):\n",
    "        res = snakestats.mean([1,2,3])\n",
    "        self.assertEqual(res, 2.0)\n",
    "unittest.main(argv=['ignored', '-v'], exit=False)"
   ]
  },
  {
   "cell_type": "code",
   "execution_count": 1,
   "id": "2701a13f",
   "metadata": {},
   "outputs": [
    {
     "name": "stderr",
     "output_type": "stream",
     "text": [
      "test_mean_2_values (__main__.TestsForSnakeStats) ... ok\n",
      "test_mean_3_values (__main__.TestsForSnakeStats) ... ok\n",
      "\n",
      "----------------------------------------------------------------------\n",
      "Ran 2 tests in 0.006s\n",
      "\n",
      "OK\n"
     ]
    },
    {
     "data": {
      "text/plain": [
       "<unittest.main.TestProgram at 0x24e619632e0>"
      ]
     },
     "execution_count": 1,
     "metadata": {},
     "output_type": "execute_result"
    }
   ],
   "source": [
    "import unittest\n",
    "import snakestats\n",
    "class TestsForSnakeStats(unittest.TestCase):\n",
    "    def test_mean_3_values(self):\n",
    "        res = snakestats.mean([1,2,3])\n",
    "        self.assertEqual(res, 2.0)\n",
    "    def test_mean_2_values(self):\n",
    "        res = snakestats.mean([1,2])\n",
    "        self.assertEqual(res, 1.5)\n",
    "unittest.main(argv=['ignored', '-v'], exit=False)"
   ]
  },
  {
   "cell_type": "code",
   "execution_count": 3,
   "id": "0f552072",
   "metadata": {},
   "outputs": [
    {
     "name": "stderr",
     "output_type": "stream",
     "text": [
      "test_getMax (__main__.TestsForSnakeStats) ... ok\n",
      "test_getMaxLast (__main__.TestsForSnakeStats) ... ok\n",
      "test_mean_2_values (__main__.TestsForSnakeStats) ... ok\n",
      "test_mean_3_values (__main__.TestsForSnakeStats) ... ok\n",
      "\n",
      "----------------------------------------------------------------------\n",
      "Ran 4 tests in 0.006s\n",
      "\n",
      "OK\n"
     ]
    },
    {
     "data": {
      "text/plain": [
       "<unittest.main.TestProgram at 0x210899cd850>"
      ]
     },
     "execution_count": 3,
     "metadata": {},
     "output_type": "execute_result"
    }
   ],
   "source": [
    "import unittest\n",
    "import snakestats\n",
    "class TestsForSnakeStats(unittest.TestCase):\n",
    "    def test_mean_3_values(self):\n",
    "        res = snakestats.mean([1,2,3])\n",
    "        self.assertEqual(res, 2.0)\n",
    "    def test_mean_2_values(self):\n",
    "        res = snakestats.mean([1,2])\n",
    "        self.assertEqual(res, 1.5)\n",
    "    def test_getMax(self):\n",
    "        theMax = snakestats.getMax([6,5,4,3,2,1])\n",
    "        self.assertEqual(theMax, 6)\n",
    "    def test_getMaxLast(self):\n",
    "        theMax = snakestats.getMax([])\n",
    "        self.assertIsNone(theMax)\n",
    "unittest.main(argv=['ignored', '-v'], exit=False)"
   ]
  },
  {
   "cell_type": "code",
   "execution_count": null,
   "id": "143f4497",
   "metadata": {},
   "outputs": [],
   "source": []
  }
 ],
 "metadata": {
  "kernelspec": {
   "display_name": "Python 3 (ipykernel)",
   "language": "python",
   "name": "python3"
  },
  "language_info": {
   "codemirror_mode": {
    "name": "ipython",
    "version": 3
   },
   "file_extension": ".py",
   "mimetype": "text/x-python",
   "name": "python",
   "nbconvert_exporter": "python",
   "pygments_lexer": "ipython3",
   "version": "3.9.7"
  }
 },
 "nbformat": 4,
 "nbformat_minor": 5
}
