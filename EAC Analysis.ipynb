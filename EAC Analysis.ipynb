{
 "cells": [
  {
   "cell_type": "markdown",
   "id": "14edf79b",
   "metadata": {},
   "source": [
    "## Gathering the data"
   ]
  },
  {
   "cell_type": "markdown",
   "id": "2505d7b2",
   "metadata": {},
   "source": [
    "- Importing the necessary libraries to handle the data analysis and visualizations"
   ]
  },
  {
   "cell_type": "code",
   "execution_count": 1,
   "id": "06949ed4",
   "metadata": {},
   "outputs": [],
   "source": [
    "import pandas as pd\n",
    "import numpy as np"
   ]
  },
  {
   "cell_type": "code",
   "execution_count": 2,
   "id": "8100f293",
   "metadata": {},
   "outputs": [],
   "source": [
    "import matplotlib.pyplot as plt"
   ]
  },
  {
   "cell_type": "markdown",
   "id": "3c0f04ec",
   "metadata": {},
   "source": [
    "- The data I need for this project resides on the World Bank server. They are provided as csv, excel or xml: <a href=\"https://data.worldbank.org/country/kenya\">Example of the Kenya data</a>. \n",
    "- To download them programatically, I will use functions since I will need the same code to download data for each of the 4 countries. I choose to download the excel file."
   ]
  },
  {
   "cell_type": "code",
   "execution_count": 3,
   "id": "5a45e376",
   "metadata": {},
   "outputs": [],
   "source": [
    "import requests\n",
    "\n",
    "def download_country_data(country_code):\n",
    "    #url format for each download link\n",
    "    url = f\"https://api.worldbank.org/v2/en/country/{country_code}?downloadformat=excel\"\n",
    "    file = f\"{country_code}_DATA.xls\" #create its excel file\n",
    "    response = requests.get(url) #response from the server\n",
    "    try:\n",
    "        with open(file, \"wb\") as f:\n",
    "            f.write(response.content) #saving the response content, i.e. excel data\n",
    "        print(f\"data successfully downloaded for {country_code} into {file}\")\n",
    "        return file\n",
    "    except Exception as e:\n",
    "        print(f\"server error or download failed with error: {e}\")\n",
    "    "
   ]
  },
  {
   "cell_type": "markdown",
   "id": "4d602e6b",
   "metadata": {},
   "source": [
    "- I will also need to convert the .xls file downloaded into a dataframe.\n",
    "- Upon analysis, I discovered that the excel files have title of the data and the year it was recorded; this title spans 3 rows. The title is not important to my analysis, I will remove it within the function.\n",
    "- The excel file contains 3 sheets: the data, metadata of the data and the origin or source of the data. Since I only need the data, I will return a Pandas dataframe of the first sheet."
   ]
  },
  {
   "cell_type": "code",
   "execution_count": 4,
   "id": "6762e953",
   "metadata": {},
   "outputs": [],
   "source": [
    "import xlrd\n",
    "\n",
    "def excel_to_df(country_code):\n",
    "    try:\n",
    "        file = download_country_data(country_code)\n",
    "        if file is not None:\n",
    "            #the excel files contain a title spanning 3 rows\n",
    "            #it also contains 3 sheets, the first being the one with the data\n",
    "            df = pd.read_excel(file, skiprows=3, sheet_name=0)\n",
    "            return df\n",
    "        else:\n",
    "            print(\"error creating the file\")\n",
    "            return None\n",
    "    except Exception as e:\n",
    "        print(f\"error {e} encountered\")"
   ]
  },
  {
   "cell_type": "markdown",
   "id": "64441e14",
   "metadata": {},
   "source": [
    "- Reading the dataframes for each country:"
   ]
  },
  {
   "cell_type": "code",
   "execution_count": 5,
   "id": "8073fee4",
   "metadata": {},
   "outputs": [],
   "source": [
    "# df_UG = excel_to_df('UGA')\n",
    "df_UG = pd.read_excel(\"UGA_DATA.xls\", skiprows=3, sheet_name=0)"
   ]
  },
  {
   "cell_type": "code",
   "execution_count": 6,
   "id": "67af2788",
   "metadata": {},
   "outputs": [],
   "source": [
    "# df_RW = excel_to_df('RWA')\n",
    "df_RW = pd.read_excel(\"RWA_DATA.xls\", skiprows=3, sheet_name=0)"
   ]
  },
  {
   "cell_type": "code",
   "execution_count": 7,
   "id": "854d0e85",
   "metadata": {},
   "outputs": [],
   "source": [
    "# df_TZ = excel_to_df('TZA')\n",
    "df_TZ = pd.read_excel(\"TZA_DATA.xls\", skiprows=3, sheet_name=0)"
   ]
  },
  {
   "cell_type": "code",
   "execution_count": 8,
   "id": "7ecf4dd9",
   "metadata": {},
   "outputs": [],
   "source": [
    "# df_KE = excel_to_df('KEN')\n",
    "df_KE = pd.read_excel(\"KEN_DATA.xls\", skiprows=3, sheet_name=0)"
   ]
  },
  {
   "cell_type": "markdown",
   "id": "63ca938b",
   "metadata": {},
   "source": [
    "- Testing out the dataframes have loaded data successfully."
   ]
  },
  {
   "cell_type": "code",
   "execution_count": 9,
   "id": "caabb300",
   "metadata": {},
   "outputs": [
    {
     "data": {
      "text/html": [
       "<div>\n",
       "<style scoped>\n",
       "    .dataframe tbody tr th:only-of-type {\n",
       "        vertical-align: middle;\n",
       "    }\n",
       "\n",
       "    .dataframe tbody tr th {\n",
       "        vertical-align: top;\n",
       "    }\n",
       "\n",
       "    .dataframe thead th {\n",
       "        text-align: right;\n",
       "    }\n",
       "</style>\n",
       "<table border=\"1\" class=\"dataframe\">\n",
       "  <thead>\n",
       "    <tr style=\"text-align: right;\">\n",
       "      <th></th>\n",
       "      <th>Country Name</th>\n",
       "      <th>Country Code</th>\n",
       "      <th>Indicator Name</th>\n",
       "      <th>Indicator Code</th>\n",
       "      <th>1960</th>\n",
       "      <th>1961</th>\n",
       "      <th>1962</th>\n",
       "      <th>1963</th>\n",
       "      <th>1964</th>\n",
       "      <th>1965</th>\n",
       "      <th>...</th>\n",
       "      <th>2014</th>\n",
       "      <th>2015</th>\n",
       "      <th>2016</th>\n",
       "      <th>2017</th>\n",
       "      <th>2018</th>\n",
       "      <th>2019</th>\n",
       "      <th>2020</th>\n",
       "      <th>2021</th>\n",
       "      <th>2022</th>\n",
       "      <th>2023</th>\n",
       "    </tr>\n",
       "  </thead>\n",
       "  <tbody>\n",
       "    <tr>\n",
       "      <th>1186</th>\n",
       "      <td>Uganda</td>\n",
       "      <td>UGA</td>\n",
       "      <td>Mineral rents (% of GDP)</td>\n",
       "      <td>NY.GDP.MINR.RT.ZS</td>\n",
       "      <td>NaN</td>\n",
       "      <td>NaN</td>\n",
       "      <td>NaN</td>\n",
       "      <td>NaN</td>\n",
       "      <td>NaN</td>\n",
       "      <td>NaN</td>\n",
       "      <td>...</td>\n",
       "      <td>1.026934e-01</td>\n",
       "      <td>7.487042e-02</td>\n",
       "      <td>1.074218e-01</td>\n",
       "      <td>4.891117e-02</td>\n",
       "      <td>0.0</td>\n",
       "      <td>0.0</td>\n",
       "      <td>0.0</td>\n",
       "      <td>0.0</td>\n",
       "      <td>NaN</td>\n",
       "      <td>NaN</td>\n",
       "    </tr>\n",
       "    <tr>\n",
       "      <th>902</th>\n",
       "      <td>Uganda</td>\n",
       "      <td>UGA</td>\n",
       "      <td>ARI treatment (% of children under 5 taken to ...</td>\n",
       "      <td>SH.STA.ARIC.ZS</td>\n",
       "      <td>NaN</td>\n",
       "      <td>NaN</td>\n",
       "      <td>NaN</td>\n",
       "      <td>NaN</td>\n",
       "      <td>NaN</td>\n",
       "      <td>NaN</td>\n",
       "      <td>...</td>\n",
       "      <td>NaN</td>\n",
       "      <td>NaN</td>\n",
       "      <td>7.130000e+01</td>\n",
       "      <td>NaN</td>\n",
       "      <td>NaN</td>\n",
       "      <td>NaN</td>\n",
       "      <td>NaN</td>\n",
       "      <td>NaN</td>\n",
       "      <td>NaN</td>\n",
       "      <td>NaN</td>\n",
       "    </tr>\n",
       "    <tr>\n",
       "      <th>233</th>\n",
       "      <td>Uganda</td>\n",
       "      <td>UGA</td>\n",
       "      <td>Adjusted savings: mineral depletion (current US$)</td>\n",
       "      <td>NY.ADJ.DMIN.CD</td>\n",
       "      <td>NaN</td>\n",
       "      <td>NaN</td>\n",
       "      <td>NaN</td>\n",
       "      <td>NaN</td>\n",
       "      <td>NaN</td>\n",
       "      <td>NaN</td>\n",
       "      <td>...</td>\n",
       "      <td>2.465222e+07</td>\n",
       "      <td>1.841345e+07</td>\n",
       "      <td>2.366679e+07</td>\n",
       "      <td>1.151085e+07</td>\n",
       "      <td>0.0</td>\n",
       "      <td>0.0</td>\n",
       "      <td>0.0</td>\n",
       "      <td>0.0</td>\n",
       "      <td>NaN</td>\n",
       "      <td>NaN</td>\n",
       "    </tr>\n",
       "  </tbody>\n",
       "</table>\n",
       "<p>3 rows × 68 columns</p>\n",
       "</div>"
      ],
      "text/plain": [
       "     Country Name Country Code  \\\n",
       "1186       Uganda          UGA   \n",
       "902        Uganda          UGA   \n",
       "233        Uganda          UGA   \n",
       "\n",
       "                                         Indicator Name     Indicator Code  \\\n",
       "1186                           Mineral rents (% of GDP)  NY.GDP.MINR.RT.ZS   \n",
       "902   ARI treatment (% of children under 5 taken to ...     SH.STA.ARIC.ZS   \n",
       "233   Adjusted savings: mineral depletion (current US$)     NY.ADJ.DMIN.CD   \n",
       "\n",
       "      1960  1961  1962  1963  1964  1965  ...          2014          2015  \\\n",
       "1186   NaN   NaN   NaN   NaN   NaN   NaN  ...  1.026934e-01  7.487042e-02   \n",
       "902    NaN   NaN   NaN   NaN   NaN   NaN  ...           NaN           NaN   \n",
       "233    NaN   NaN   NaN   NaN   NaN   NaN  ...  2.465222e+07  1.841345e+07   \n",
       "\n",
       "              2016          2017  2018  2019  2020  2021  2022  2023  \n",
       "1186  1.074218e-01  4.891117e-02   0.0   0.0   0.0   0.0   NaN   NaN  \n",
       "902   7.130000e+01           NaN   NaN   NaN   NaN   NaN   NaN   NaN  \n",
       "233   2.366679e+07  1.151085e+07   0.0   0.0   0.0   0.0   NaN   NaN  \n",
       "\n",
       "[3 rows x 68 columns]"
      ]
     },
     "execution_count": 9,
     "metadata": {},
     "output_type": "execute_result"
    }
   ],
   "source": [
    "df_UG.sample(3)"
   ]
  },
  {
   "cell_type": "code",
   "execution_count": 10,
   "id": "461bb2b9",
   "metadata": {
    "scrolled": true
   },
   "outputs": [
    {
     "data": {
      "text/plain": [
       "Index(['Country Name', 'Country Code', 'Indicator Name', 'Indicator Code',\n",
       "       '1960', '1961', '1962', '1963', '1964', '1965', '1966', '1967', '1968',\n",
       "       '1969', '1970', '1971', '1972', '1973', '1974', '1975', '1976', '1977',\n",
       "       '1978', '1979', '1980', '1981', '1982', '1983', '1984', '1985', '1986',\n",
       "       '1987', '1988', '1989', '1990', '1991', '1992', '1993', '1994', '1995',\n",
       "       '1996', '1997', '1998', '1999', '2000', '2001', '2002', '2003', '2004',\n",
       "       '2005', '2006', '2007', '2008', '2009', '2010', '2011', '2012', '2013',\n",
       "       '2014', '2015', '2016', '2017', '2018', '2019', '2020', '2021', '2022',\n",
       "       '2023'],\n",
       "      dtype='object')"
      ]
     },
     "execution_count": 10,
     "metadata": {},
     "output_type": "execute_result"
    }
   ],
   "source": [
    "df_RW.columns"
   ]
  },
  {
   "cell_type": "markdown",
   "id": "8f43a30d",
   "metadata": {},
   "source": [
    "## Assessing and Cleaning Data"
   ]
  },
  {
   "cell_type": "markdown",
   "id": "9490a24f",
   "metadata": {},
   "source": [
    "- The data is presented in an unnatural way that will make querying the data complicated."
   ]
  },
  {
   "cell_type": "code",
   "execution_count": 11,
   "id": "57a1339a",
   "metadata": {},
   "outputs": [
    {
     "data": {
      "text/html": [
       "<div>\n",
       "<style scoped>\n",
       "    .dataframe tbody tr th:only-of-type {\n",
       "        vertical-align: middle;\n",
       "    }\n",
       "\n",
       "    .dataframe tbody tr th {\n",
       "        vertical-align: top;\n",
       "    }\n",
       "\n",
       "    .dataframe thead th {\n",
       "        text-align: right;\n",
       "    }\n",
       "</style>\n",
       "<table border=\"1\" class=\"dataframe\">\n",
       "  <thead>\n",
       "    <tr style=\"text-align: right;\">\n",
       "      <th></th>\n",
       "      <th>Country Name</th>\n",
       "      <th>Country Code</th>\n",
       "      <th>Indicator Name</th>\n",
       "      <th>Indicator Code</th>\n",
       "      <th>1960</th>\n",
       "      <th>1961</th>\n",
       "      <th>1962</th>\n",
       "      <th>1963</th>\n",
       "      <th>1964</th>\n",
       "      <th>1965</th>\n",
       "      <th>...</th>\n",
       "      <th>2014</th>\n",
       "      <th>2015</th>\n",
       "      <th>2016</th>\n",
       "      <th>2017</th>\n",
       "      <th>2018</th>\n",
       "      <th>2019</th>\n",
       "      <th>2020</th>\n",
       "      <th>2021</th>\n",
       "      <th>2022</th>\n",
       "      <th>2023</th>\n",
       "    </tr>\n",
       "  </thead>\n",
       "  <tbody>\n",
       "    <tr>\n",
       "      <th>993</th>\n",
       "      <td>Kenya</td>\n",
       "      <td>KEN</td>\n",
       "      <td>Employment in services (% of total employment)...</td>\n",
       "      <td>SL.SRV.EMPL.ZS</td>\n",
       "      <td>NaN</td>\n",
       "      <td>NaN</td>\n",
       "      <td>NaN</td>\n",
       "      <td>NaN</td>\n",
       "      <td>NaN</td>\n",
       "      <td>NaN</td>\n",
       "      <td>...</td>\n",
       "      <td>49.227103</td>\n",
       "      <td>49.697545</td>\n",
       "      <td>50.154889</td>\n",
       "      <td>50.535145</td>\n",
       "      <td>50.999233</td>\n",
       "      <td>51.410730</td>\n",
       "      <td>51.085295</td>\n",
       "      <td>51.177109</td>\n",
       "      <td>51.785797</td>\n",
       "      <td>NaN</td>\n",
       "    </tr>\n",
       "    <tr>\n",
       "      <th>283</th>\n",
       "      <td>Kenya</td>\n",
       "      <td>KEN</td>\n",
       "      <td>Nitrous oxide (N2O) emissions from Agriculture...</td>\n",
       "      <td>EN.GHG.N2O.AG.MT.CE.AR5</td>\n",
       "      <td>NaN</td>\n",
       "      <td>NaN</td>\n",
       "      <td>NaN</td>\n",
       "      <td>NaN</td>\n",
       "      <td>NaN</td>\n",
       "      <td>NaN</td>\n",
       "      <td>...</td>\n",
       "      <td>11.533700</td>\n",
       "      <td>11.595200</td>\n",
       "      <td>12.590400</td>\n",
       "      <td>11.866000</td>\n",
       "      <td>12.141200</td>\n",
       "      <td>13.964000</td>\n",
       "      <td>14.422200</td>\n",
       "      <td>14.972600</td>\n",
       "      <td>15.585100</td>\n",
       "      <td>NaN</td>\n",
       "    </tr>\n",
       "    <tr>\n",
       "      <th>474</th>\n",
       "      <td>Kenya</td>\n",
       "      <td>KEN</td>\n",
       "      <td>Net ODA received (% of gross capital formation)</td>\n",
       "      <td>DT.ODA.ODAT.GI.ZS</td>\n",
       "      <td>NaN</td>\n",
       "      <td>NaN</td>\n",
       "      <td>NaN</td>\n",
       "      <td>NaN</td>\n",
       "      <td>43.462612</td>\n",
       "      <td>50.215831</td>\n",
       "      <td>...</td>\n",
       "      <td>15.618392</td>\n",
       "      <td>15.894960</td>\n",
       "      <td>15.117825</td>\n",
       "      <td>14.631176</td>\n",
       "      <td>13.943336</td>\n",
       "      <td>16.337446</td>\n",
       "      <td>20.167087</td>\n",
       "      <td>14.201735</td>\n",
       "      <td>12.161177</td>\n",
       "      <td>NaN</td>\n",
       "    </tr>\n",
       "  </tbody>\n",
       "</table>\n",
       "<p>3 rows × 68 columns</p>\n",
       "</div>"
      ],
      "text/plain": [
       "    Country Name Country Code  \\\n",
       "993        Kenya          KEN   \n",
       "283        Kenya          KEN   \n",
       "474        Kenya          KEN   \n",
       "\n",
       "                                        Indicator Name  \\\n",
       "993  Employment in services (% of total employment)...   \n",
       "283  Nitrous oxide (N2O) emissions from Agriculture...   \n",
       "474    Net ODA received (% of gross capital formation)   \n",
       "\n",
       "              Indicator Code  1960  1961  1962  1963       1964       1965  \\\n",
       "993           SL.SRV.EMPL.ZS   NaN   NaN   NaN   NaN        NaN        NaN   \n",
       "283  EN.GHG.N2O.AG.MT.CE.AR5   NaN   NaN   NaN   NaN        NaN        NaN   \n",
       "474        DT.ODA.ODAT.GI.ZS   NaN   NaN   NaN   NaN  43.462612  50.215831   \n",
       "\n",
       "     ...       2014       2015       2016       2017       2018       2019  \\\n",
       "993  ...  49.227103  49.697545  50.154889  50.535145  50.999233  51.410730   \n",
       "283  ...  11.533700  11.595200  12.590400  11.866000  12.141200  13.964000   \n",
       "474  ...  15.618392  15.894960  15.117825  14.631176  13.943336  16.337446   \n",
       "\n",
       "          2020       2021       2022  2023  \n",
       "993  51.085295  51.177109  51.785797   NaN  \n",
       "283  14.422200  14.972600  15.585100   NaN  \n",
       "474  20.167087  14.201735  12.161177   NaN  \n",
       "\n",
       "[3 rows x 68 columns]"
      ]
     },
     "execution_count": 11,
     "metadata": {},
     "output_type": "execute_result"
    }
   ],
   "source": [
    "df_KE.sample(3)"
   ]
  },
  {
   "cell_type": "markdown",
   "id": "772e2c61",
   "metadata": {},
   "source": [
    "- Here is a way to access a particular field and get a value for a certain year. The example here is the urban population growth percentage of Rwanda in the year 1961"
   ]
  },
  {
   "cell_type": "code",
   "execution_count": 12,
   "id": "19ec27e9",
   "metadata": {},
   "outputs": [
    {
     "name": "stdout",
     "output_type": "stream",
     "text": [
      "4.812334794957718\n"
     ]
    }
   ],
   "source": [
    "indicator = \"Urban population growth (annual %)\"\n",
    "row = df_RW[df_RW[\"Indicator Name\"]==indicator]\n",
    "value = row[\"1961\"].values[0]\n",
    "print(value)"
   ]
  },
  {
   "cell_type": "markdown",
   "id": "9b5e9d5a",
   "metadata": {},
   "source": [
    "- Due to the unnatural structure of the data, I need to make a function that gets a particular indicator and a year, and print out a scalar value. Otherwise, the code to query values can be repetitive and bulky."
   ]
  },
  {
   "cell_type": "code",
   "execution_count": 13,
   "id": "ec4e479b",
   "metadata": {},
   "outputs": [],
   "source": [
    "def query(df, ind, yr):\n",
    "    \"\"\"df, ind as string, yr as number/string\"\"\"\n",
    "    year = str(yr) #making sure the year is a string\n",
    "    row = df[df[\"Indicator Name\"]==ind]\n",
    "    value = row[year].values[0]\n",
    "    return value\n"
   ]
  },
  {
   "cell_type": "code",
   "execution_count": 14,
   "id": "0162b890",
   "metadata": {},
   "outputs": [
    {
     "data": {
      "text/plain": [
       "4.812334794957718"
      ]
     },
     "execution_count": 14,
     "metadata": {},
     "output_type": "execute_result"
    }
   ],
   "source": [
    "query(df_RW, \"Urban population growth (annual %)\", \"1961\")"
   ]
  },
  {
   "cell_type": "markdown",
   "id": "fa33597a",
   "metadata": {},
   "source": [
    "- Since the data has many null values for a particular year, the other issue will be comparing values of one country with another one which has a NaN value in that particular year.\n",
    "- For example, Rwanda doesn't have an urban population growth recorded for 1960"
   ]
  },
  {
   "cell_type": "code",
   "execution_count": 15,
   "id": "9ed94183",
   "metadata": {},
   "outputs": [
    {
     "data": {
      "text/plain": [
       "nan"
      ]
     },
     "execution_count": 15,
     "metadata": {},
     "output_type": "execute_result"
    }
   ],
   "source": [
    "query(df_RW, \"Urban population growth (annual %)\", 1960)"
   ]
  },
  {
   "cell_type": "markdown",
   "id": "08806618",
   "metadata": {},
   "source": [
    "- I will also need to query values within a range of years with a starting year to an end year; This will be accomplished by the function below."
   ]
  },
  {
   "cell_type": "code",
   "execution_count": 16,
   "id": "890c0f42",
   "metadata": {},
   "outputs": [],
   "source": [
    "def query_range(df, ind, start_yr, end_yr):\n",
    "    \"\"\"df, ind as string, yr as number/string\"\"\"\n",
    "    values = [] ##the return array containing values\n",
    "    years = [] #the return array containing years\n",
    "    try:\n",
    "        start_year = int(start_yr) #making sure the year is an integer\n",
    "        end_year = int(end_yr) #making sure the year is an integer\n",
    "    except:\n",
    "        print(\"error converting to string\")\n",
    "    yrs = range(start_year, end_year)\n",
    "    for year in yrs:\n",
    "        year = str(year) #making it back to a string\n",
    "        row = df[df[\"Indicator Name\"]==ind]\n",
    "        if not row.empty and year in row.columns:\n",
    "            value = row[year].values[0]\n",
    "            values.append(value) #push the values in an array\n",
    "            years.append(year)\n",
    "        else:\n",
    "            values.append(None) #put none\n",
    "            years.append(None) #put none\n",
    "    return years, values"
   ]
  },
  {
   "cell_type": "code",
   "execution_count": 17,
   "id": "de079b4b",
   "metadata": {},
   "outputs": [],
   "source": [
    "def removeNan(years, values):\n",
    "    \"\"\"Removing null values; takes years, values arrays\"\"\"\n",
    "    cleaned_values = []\n",
    "    cleaned_years = []\n",
    "    # extract only non null rows for the tuple year, value\n",
    "    for i in range(len(values)): \n",
    "        if not np.isnan(values[i]):\n",
    "            #storing the values into respective arrays\n",
    "            cleaned_values.append(values[i])\n",
    "            cleaned_years.append(years[i])\n",
    "    return cleaned_years,cleaned_values"
   ]
  },
  {
   "cell_type": "code",
   "execution_count": 53,
   "id": "297fc8df",
   "metadata": {},
   "outputs": [],
   "source": [
    "def getCommon(years1, years2, values1, values2):\n",
    "    \"\"\"Get the common rows of two collections of data of years-values\"\"\"\n",
    "    yrs1, yrs2, vals1, vals2 = [], [], [], []\n",
    "    set_years2 = set(years2)\n",
    "    #get equivalent year in the other data\n",
    "    for i in range(len(years1)):\n",
    "        for j in range(len(years2)):\n",
    "            if years1[i] == years2[j]:\n",
    "                yrs1.append(years1[i]) #update the yrs1 array\n",
    "                vals1.append(values1[i]) #update the vals1 array\n",
    "                yrs2.append(years2[j]) #update the yrs1 array\n",
    "                vals2.append(values2[j]) #update the vals1 array\n",
    "                break #move to the next i iteration\n",
    "    return yrs1, yrs2, vals1, vals2"
   ]
  },
  {
   "cell_type": "code",
   "execution_count": 19,
   "id": "cc78b995",
   "metadata": {},
   "outputs": [],
   "source": [
    "colors = {\"RW\":\"green\", \"UG\":\"red\", \"TZ\":\"yellow\", \"KE\":\"black\"}"
   ]
  },
  {
   "cell_type": "code",
   "execution_count": 20,
   "id": "e38bf3b8",
   "metadata": {},
   "outputs": [],
   "source": [
    "df_countries_dict = {\"df_RW\": 'Rwanda', \"df_UG\": 'Uganda', \"df_KE\" : 'Kenya',\"df_TZ\" : 'Tanzania'}"
   ]
  },
  {
   "cell_type": "markdown",
   "id": "ad77b0ab",
   "metadata": {},
   "source": [
    "## Exploring data"
   ]
  },
  {
   "cell_type": "markdown",
   "id": "148d6461",
   "metadata": {},
   "source": [
    "### Social\n",
    "#### Urban Population Growth"
   ]
  },
  {
   "cell_type": "code",
   "execution_count": 21,
   "id": "f4b556c1",
   "metadata": {
    "scrolled": true
   },
   "outputs": [
    {
     "data": {
      "text/plain": [
       "Text(0.5, 1.0, 'Life expectancy at birth, total (years)')"
      ]
     },
     "execution_count": 21,
     "metadata": {},
     "output_type": "execute_result"
    },
    {
     "data": {
      "image/png": "[encoded data removed]",
      "text/plain": [
       "<Figure size 432x288 with 1 Axes>"
      ]
     },
     "metadata": {
      "needs_background": "light"
     },
     "output_type": "display_data"
    }
   ],
   "source": [
    "indicator = \"Life expectancy at birth, total (years)\"\n",
    "years, values = query_range(df_RW, indicator, 1960, 2002)\n",
    "plt.hist(x=values, bins=np.arange(0, max(values)))\n",
    "plt.title(indicator)"
   ]
  },
  {
   "cell_type": "code",
   "execution_count": 22,
   "id": "a91f86c5",
   "metadata": {},
   "outputs": [
    {
     "data": {
      "image/png": "[encoded data removed]",
      "text/plain": [
       "<Figure size 936x360 with 1 Axes>"
      ]
     },
     "metadata": {
      "needs_background": "light"
     },
     "output_type": "display_data"
    }
   ],
   "source": [
    "indicator = \"Life expectancy at birth, total (years)\"\n",
    "fig, ax1 = plt.subplots(figsize=(13,5))\n",
    "years, values = query_range(df_RW, indicator, 1960, 2023)\n",
    "line1, = ax1.plot(years, values, label=\"Rwanda\", color=colors[\"RW\"])\n",
    "# plt.plot(years, values)\n",
    "#showing the title and centering it\n",
    "ax1.set_title(f\"{indicator}\", loc=\"center\")\n",
    "#plot the Uganda plot\n",
    "years, values = query_range(df_UG, indicator, 1960, 2023)\n",
    "line2, = ax1.plot(years, values, label=\"Uganda\", color=colors[\"UG\"])\n",
    "#plot the Kenya plot\n",
    "years, values = query_range(df_KE, indicator, 1960, 2023)\n",
    "line3, = ax1.plot(years, values, label=\"Kenya\", color=colors[\"KE\"])\n",
    "#plot the Tanzania plot\n",
    "years, values = query_range(df_TZ, indicator, 1960, 2023)\n",
    "line4, = ax1.plot(years, values, label=\"Tanzania\", color=colors[\"TZ\"])\n",
    "#adding more details in y axis\n",
    "y_ticks = np.arange(10,80,5)\n",
    "ax1.set_yticks(y_ticks)\n",
    "#rotating the date label\n",
    "fig.autofmt_xdate()\n",
    "ax1.set_xticks(years[::2]) #skipping 2 years\n",
    "#adding the legend\n",
    "ax1.legend(loc=\"lower right\")\n",
    "#showing the plot\n",
    "plt.show()"
   ]
  },
  {
   "cell_type": "code",
   "execution_count": 23,
   "id": "076b66b8",
   "metadata": {
    "scrolled": true
   },
   "outputs": [
    {
     "data": {
      "image/png": "[encoded data removed]",
      "text/plain": [
       "<Figure size 936x360 with 4 Axes>"
      ]
     },
     "metadata": {
      "needs_background": "light"
     },
     "output_type": "display_data"
    }
   ],
   "source": [
    "indicator = \"Population growth (annual %)\"\n",
    "fig, ((ax1,ax2),(ax3,ax4)) = plt.subplots(2,2, figsize=(13,5), sharex=True, sharey=True)\n",
    "years, values = query_range(df_RW, indicator, 1960, 2023)\n",
    "ax1.plot(years, values, label=\"Rwanda\", color=colors[\"RW\"])\n",
    "# plt.plot(years, values)\n",
    "#showing the title and centering it\n",
    "ax1.set_title(f\"{indicator}\", loc=\"right\")\n",
    "#plot the Uganda plot\n",
    "years, values = query_range(df_UG, indicator, 1960, 2023)\n",
    "ax2.plot(years, values, label=\"Uganda\", color=colors[\"UG\"])\n",
    "#plot the Kenya plot\n",
    "years, values = query_range(df_KE, indicator, 1960, 2023)\n",
    "ax3.plot(years, values, label=\"Kenya\", color=colors[\"KE\"])\n",
    "#plot the Tanzania plot\n",
    "years, values = query_range(df_TZ, indicator, 1960, 2023)\n",
    "ax4.plot(years, values, label=\"Tanzania\", color=colors[\"TZ\"])\n",
    "#adding a legend\n",
    "ax1.legend()\n",
    "ax2.legend()\n",
    "ax3.legend()\n",
    "ax4.legend()\n",
    "#rotating the date label\n",
    "fig.autofmt_xdate()\n",
    "ax1.set_xticks(years[::4])\n",
    "#showing the plot\n",
    "plt.show()"
   ]
  },
  {
   "cell_type": "code",
   "execution_count": 24,
   "id": "d5bf00b9",
   "metadata": {},
   "outputs": [
    {
     "name": "stdout",
     "output_type": "stream",
     "text": [
      "Mortality rate, infant, female (per 1,000 live births)\n",
      "{'Rwanda': 90.62063492063493}\n",
      "{'Uganda': 84.92857142857147}\n",
      "{'Kenya': 59.450793650793635}\n",
      "{'Tanzania': 83.99047619047617}\n"
     ]
    }
   ],
   "source": [
    "indicator = \"Mortality rate, infant, female (per 1,000 live births)\"\n",
    "arr = []\n",
    "# for df in [df_RW, df_UG, df_KE, df_TZ]:\n",
    "print(indicator)\n",
    "#Rwanda\n",
    "years, mort = query_range(df_RW,indicator,1960,2023)\n",
    "country = df_countries_dict['df_RW']\n",
    "mean = np.nanmean(mort)\n",
    "arr.append({country:mean})\n",
    "#Uganda\n",
    "years, mort = query_range(df_UG,indicator,1960,2023)\n",
    "country = df_countries_dict['df_UG']\n",
    "mean = np.nanmean(mort)\n",
    "arr.append({country:mean})\n",
    "#Kenya\n",
    "years, mort = query_range(df_KE,indicator,1960,2023)\n",
    "country = df_countries_dict['df_KE']\n",
    "mean = np.nanmean(mort)\n",
    "arr.append({country:mean})\n",
    "#Tanzania\n",
    "years, mort = query_range(df_TZ,indicator,1960,2023)\n",
    "country = df_countries_dict['df_TZ']\n",
    "mean = np.nanmean(mort)\n",
    "arr.append({country:mean})\n",
    "for entry in arr:\n",
    "    print(f\"{entry}\")"
   ]
  },
  {
   "cell_type": "markdown",
   "id": "03157c64",
   "metadata": {},
   "source": [
    "#### Migration"
   ]
  },
  {
   "cell_type": "markdown",
   "id": "a38971a2",
   "metadata": {},
   "source": [
    "Refugee population by country or territory of asylum\n",
    "Population growth (annual %)"
   ]
  },
  {
   "cell_type": "code",
   "execution_count": 25,
   "id": "d459de56",
   "metadata": {
    "scrolled": false
   },
   "outputs": [
    {
     "data": {
      "image/png": "[encoded data removed]",
      "text/plain": [
       "<Figure size 936x360 with 4 Axes>"
      ]
     },
     "metadata": {
      "needs_background": "light"
     },
     "output_type": "display_data"
    }
   ],
   "source": [
    "indicator = \"Refugee population by country or territory of origin\"\n",
    "start_year = 1980\n",
    "fig, ((ax1,ax2),(ax3,ax4)) = plt.subplots(2,2, figsize=(13,5), sharex=True, sharey=True)\n",
    "years, values = query_range(df_RW, indicator, start_year, 2023)\n",
    "ax1.plot(years, values, label=\"Rwanda\", color=colors[\"RW\"])\n",
    "# plt.plot(years, values)\n",
    "#showing the title and centering it\n",
    "ax1.set_title(f\"{indicator}\", loc=\"right\")\n",
    "#plot the Uganda plot\n",
    "years, values = query_range(df_UG, indicator, start_year, 2023)\n",
    "ax2.plot(years, values, label=\"Uganda\", color=colors[\"UG\"])\n",
    "#plot the Kenya plot\n",
    "years, values = query_range(df_KE, indicator, start_year, 2023)\n",
    "ax3.plot(years, values, label=\"Kenya\", color=colors[\"KE\"])\n",
    "#plot the Tanzania plot\n",
    "years, values = query_range(df_TZ, indicator, start_year, 2023)\n",
    "ax4.plot(years, values, label=\"Tanzania\", color=colors[\"TZ\"], lw=2)\n",
    "#adding a legend\n",
    "ax1.legend()\n",
    "ax2.legend()\n",
    "ax3.legend()\n",
    "ax4.legend()\n",
    "#rotating the date label\n",
    "fig.autofmt_xdate()\n",
    "ax1.set_xticks(years[::5])\n",
    "#showing the plot\n",
    "plt.show()"
   ]
  },
  {
   "cell_type": "code",
   "execution_count": 26,
   "id": "11e78b07",
   "metadata": {
    "scrolled": true
   },
   "outputs": [
    {
     "data": {
      "image/png": "[encoded data removed]",
      "text/plain": [
       "<Figure size 936x360 with 1 Axes>"
      ]
     },
     "metadata": {
      "needs_background": "light"
     },
     "output_type": "display_data"
    }
   ],
   "source": [
    "indicator = \"Access to electricity (% of population)\"\n",
    "start_year = 2000\n",
    "fig, ax1 = plt.subplots(figsize=(13,5))\n",
    "years, values = query_range(df_RW, indicator, start_year, 2023)\n",
    "line1, = ax1.plot(years, values, linestyle=\"--\", label=\"Rwanda\", color=colors[\"RW\"])\n",
    "# plt.plot(years, values)\n",
    "#showing the title and centering it\n",
    "ax1.set_title(f\"{indicator}\", loc=\"center\")\n",
    "#plot the Uganda plot\n",
    "years, values = query_range(df_UG, indicator, start_year, 2023)\n",
    "line2, = ax1.plot(years, values,linestyle=\"--\", label=\"Uganda\", color=colors[\"UG\"])\n",
    "#plot the Kenya plot\n",
    "years, values = query_range(df_KE, indicator, start_year, 2023)\n",
    "line3, = ax1.plot(years, values,linestyle=\"--\", label=\"Kenya\", color=colors[\"KE\"])\n",
    "#plot the Tanzania plot\n",
    "years, values = query_range(df_TZ, indicator, start_year, 2023)\n",
    "line4, = ax1.plot(years, values,linestyle=\"--\", label=\"Tanzania\",lw=2, color=colors[\"TZ\"])\n",
    "#adding more details in y axis\n",
    "y_ticks = np.arange(10,80,5)\n",
    "ax1.set_yticks(y_ticks)\n",
    "#rotating the date label\n",
    "fig.autofmt_xdate()\n",
    "ax1.set_xticks(years[::2]) #skipping 2 years\n",
    "#adding the legend\n",
    "ax1.legend(loc=\"lower right\")\n",
    "#showing the plot\n",
    "plt.show()"
   ]
  },
  {
   "cell_type": "markdown",
   "id": "6b0156cb",
   "metadata": {},
   "source": [
    "- According to the definition given by the author of the data, Country of origin generally refers to the nationality or country of citizenship of a claimant."
   ]
  },
  {
   "cell_type": "code",
   "execution_count": 27,
   "id": "e45146b8",
   "metadata": {
    "scrolled": false
   },
   "outputs": [
    {
     "data": {
      "image/png": "[encoded data removed]",
      "text/plain": [
       "<Figure size 936x360 with 4 Axes>"
      ]
     },
     "metadata": {
      "needs_background": "light"
     },
     "output_type": "display_data"
    }
   ],
   "source": [
    "indicator = \"Refugee population by country or territory of origin\"\n",
    "start_year = 1980\n",
    "fig, ((ax1,ax2),(ax3,ax4)) = plt.subplots(2,2, figsize=(13,5), sharex=True, sharey=True)\n",
    "years, values = query_range(df_RW, indicator, start_year, 2023)\n",
    "ax1.plot(years, values, label=\"Rwanda\", color=colors[\"RW\"])\n",
    "# plt.plot(years, values)\n",
    "#showing the title and centering it\n",
    "ax1.set_title(f\"{indicator}\", loc=\"right\")\n",
    "#plot the Uganda plot\n",
    "years, values = query_range(df_UG, indicator, start_year, 2023)\n",
    "ax2.plot(years, values, label=\"Uganda\", color=colors[\"UG\"])\n",
    "#plot the Kenya plot\n",
    "years, values = query_range(df_KE, indicator, start_year, 2023)\n",
    "ax3.plot(years, values, label=\"Kenya\", color=colors[\"KE\"])\n",
    "#plot the Tanzania plot\n",
    "years, values = query_range(df_TZ, indicator, start_year, 2023)\n",
    "ax4.plot(years, values, label=\"Tanzania\", color=colors[\"TZ\"], lw=2)\n",
    "#adding a legend\n",
    "ax1.legend()\n",
    "ax2.legend()\n",
    "ax3.legend()\n",
    "ax4.legend()\n",
    "#rotating the date label\n",
    "fig.autofmt_xdate()\n",
    "ax1.set_xticks(years[::5])\n",
    "#showing the plot\n",
    "plt.show()"
   ]
  },
  {
   "cell_type": "code",
   "execution_count": 56,
   "id": "379ad1d7",
   "metadata": {},
   "outputs": [
    {
     "data": {
      "text/plain": [
       "0"
      ]
     },
     "execution_count": 56,
     "metadata": {},
     "output_type": "execute_result"
    }
   ],
   "source": [
    "indicator = \"School enrollment, primary, female (% gross)\"\n",
    "years, completed = query_range(df_RW, indicator, 1980, 2022)\n",
    "years, completed = removeNan(years, completed) #removing nan values\n",
    "#for 2nd indicator\n",
    "indicator = \"Primary completion rate, female (% of relevant age group)\"\n",
    "years2, completed2 = query_range(df_RW, indicator, 1980, 2022)\n",
    "years2, completed2 = removeNan(years2, completed2) #removing nan values\n",
    "years,years2,completed,completed2 = getCommon(years,years2,completed,completed2)"
   ]
  },
  {
   "cell_type": "code",
   "execution_count": 55,
   "id": "f68eaef6",
   "metadata": {},
   "outputs": [
    {
     "data": {
      "text/plain": [
       "31"
      ]
     },
     "execution_count": 55,
     "metadata": {},
     "output_type": "execute_result"
    }
   ],
   "source": [
    "indicator = \"Primary completion rate, female (% of relevant age group)\"\n",
    "years2, completed2 = query_range(df_RW, indicator, 1980, 2022)\n",
    "years2, completed2 = removeNan(years2, completed2) #removing nan values\n",
    "len(years2)"
   ]
  },
  {
   "cell_type": "markdown",
   "id": "5adba1da",
   "metadata": {},
   "source": [
    "Primary school starting age (years)\n",
    "School enrollment, primary and secondary (gross), gender parity index (GPI)\n",
    "Primary completion rate, total (% of relevant age group) bar chart in one subplot\n",
    "Lower secondary school starting age (years)\n",
    "School enrollment, secondary, female (% gross), School enrollment, secondary, male (% net)\n",
    "Women Business and the Law Index Score (scale 1-100)"
   ]
  },
  {
   "cell_type": "code",
   "execution_count": null,
   "id": "2f145d1b",
   "metadata": {},
   "outputs": [],
   "source": []
  }
 ],
 "metadata": {
  "kernelspec": {
   "display_name": "Python 3 (ipykernel)",
   "language": "python",
   "name": "python3"
  },
  "language_info": {
   "codemirror_mode": {
    "name": "ipython",
    "version": 3
   },
   "file_extension": ".py",
   "mimetype": "text/x-python",
   "name": "python",
   "nbconvert_exporter": "python",
   "pygments_lexer": "ipython3",
   "version": "3.9.7"
  }
 },
 "nbformat": 4,
 "nbformat_minor": 5
}
